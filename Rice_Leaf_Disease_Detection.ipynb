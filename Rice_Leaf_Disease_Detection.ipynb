{
  "nbformat": 4,
  "nbformat_minor": 0,
  "metadata": {
    "colab": {
      "name": "Rice_Leaf_Disease_Detection.ipynb",
      "provenance": []
    },
    "kernelspec": {
      "name": "python3",
      "display_name": "Python 3"
    },
    "language_info": {
      "name": "python"
    }
  },
  "cells": [
    {
      "cell_type": "code",
      "metadata": {
        "id": "1UmmhJjjW6w8"
      },
      "source": [
        "import numpy as np\n",
        "import pandas as pd\n",
        "import os\n",
        "import matplotlib.pyplot as plt\n",
        "import tensorflow as tf\n",
        "\n",
        "from tensorflow.keras.utils import to_categorical\n",
        "from tensorflow.keras.preprocessing.image import load_img, img_to_array\n",
        "from tensorflow.python.keras.preprocessing.image import ImageDataGenerator\n",
        "\n",
        "from sklearn.metrics import classification_report, log_loss, accuracy_score\n",
        "from sklearn.model_selection import train_test_split"
      ],
      "execution_count": 1,
      "outputs": []
    },
    {
      "cell_type": "code",
      "metadata": {
        "colab": {
          "resources": {
            "http://localhost:8080/nbextensions/google.colab/files.js": {
              "data": "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",
              "ok": true,
              "headers": [
                [
                  "content-type",
                  "application/javascript"
                ]
              ],
              "status": 200,
              "status_text": ""
            }
          },
          "base_uri": "https://localhost:8080/",
          "height": 72
        },
        "id": "Nj8nTirbXK6k",
        "outputId": "eca1f4b4-09b2-4520-b1e5-4a9694356b9f"
      },
      "source": [
        "from google.colab import files \n",
        "files.upload()"
      ],
      "execution_count": 8,
      "outputs": [
        {
          "output_type": "display_data",
          "data": {
            "text/html": [
              "\n",
              "     <input type=\"file\" id=\"files-1aa5ddec-b1c4-49dc-abe6-8d6ee54e4854\" name=\"files[]\" multiple disabled\n",
              "        style=\"border:none\" />\n",
              "     <output id=\"result-1aa5ddec-b1c4-49dc-abe6-8d6ee54e4854\">\n",
              "      Upload widget is only available when the cell has been executed in the\n",
              "      current browser session. Please rerun this cell to enable.\n",
              "      </output>\n",
              "      <script src=\"/nbextensions/google.colab/files.js\"></script> "
            ],
            "text/plain": [
              "<IPython.core.display.HTML object>"
            ]
          },
          "metadata": {}
        },
        {
          "output_type": "stream",
          "name": "stdout",
          "text": [
            "Saving RiceLeaf.zip to RiceLeaf.zip\n"
          ]
        }
      ]
    },
    {
      "cell_type": "code",
      "metadata": {
        "colab": {
          "base_uri": "https://localhost:8080/"
        },
        "id": "Va_QjuhXY4XF",
        "outputId": "e93c09be-74c3-4425-a081-facf67ac7536"
      },
      "source": [
        "!unzip RiceLeaf.zip"
      ],
      "execution_count": 9,
      "outputs": [
        {
          "output_type": "stream",
          "name": "stdout",
          "text": [
            "Archive:  RiceLeaf.zip\n",
            "   creating: RiceLeaf/Rice/\n",
            "   creating: RiceLeaf/Rice/blast/\n",
            "  inflating: RiceLeaf/Rice/blast/IMG_0448.jpg  \n",
            "  inflating: RiceLeaf/Rice/blast/IMG_0535.jpg  \n",
            "  inflating: RiceLeaf/Rice/blast/IMG_0536.jpg  \n",
            "  inflating: RiceLeaf/Rice/blast/IMG_0541.jpg  \n",
            "  inflating: RiceLeaf/Rice/blast/IMG_0543.jpg  \n",
            "  inflating: RiceLeaf/Rice/blast/IMG_0544.jpg  \n",
            "  inflating: RiceLeaf/Rice/blast/IMG_0545.jpg  \n",
            "  inflating: RiceLeaf/Rice/blast/IMG_0546.jpg  \n",
            "  inflating: RiceLeaf/Rice/blast/IMG_0547.jpg  \n",
            "  inflating: RiceLeaf/Rice/blast/IMG_0548.jpg  \n",
            "  inflating: RiceLeaf/Rice/blast/IMG_0549.jpg  \n",
            "  inflating: RiceLeaf/Rice/blast/IMG_0550.jpg  \n",
            "  inflating: RiceLeaf/Rice/blast/IMG_0551.jpg  \n",
            "  inflating: RiceLeaf/Rice/blast/IMG_0553.jpg  \n",
            "  inflating: RiceLeaf/Rice/blast/IMG_0557.jpg  \n",
            "  inflating: RiceLeaf/Rice/blast/IMG_0558.jpg  \n",
            "  inflating: RiceLeaf/Rice/blast/IMG_0559.jpg  \n",
            "  inflating: RiceLeaf/Rice/blast/IMG_0560.jpg  \n",
            "  inflating: RiceLeaf/Rice/blast/IMG_0561.jpg  \n",
            "  inflating: RiceLeaf/Rice/blast/IMG_0563.jpg  \n",
            "  inflating: RiceLeaf/Rice/blast/IMG_0566.jpg  \n",
            "  inflating: RiceLeaf/Rice/blast/IMG_0567.jpg  \n",
            "  inflating: RiceLeaf/Rice/blast/IMG_0569.jpg  \n",
            "  inflating: RiceLeaf/Rice/blast/IMG_0570.jpg  \n",
            "  inflating: RiceLeaf/Rice/blast/IMG_0571.jpg  \n",
            "  inflating: RiceLeaf/Rice/blast/IMG_0572.jpg  \n",
            "  inflating: RiceLeaf/Rice/blast/IMG_0575.jpg  \n",
            "  inflating: RiceLeaf/Rice/blast/IMG_0576.jpg  \n",
            "  inflating: RiceLeaf/Rice/blast/IMG_0594.jpg  \n",
            "  inflating: RiceLeaf/Rice/blast/IMG_0599.jpg  \n",
            "  inflating: RiceLeaf/Rice/blast/IMG_0602.jpg  \n",
            "  inflating: RiceLeaf/Rice/blast/IMG_0603.jpg  \n",
            "  inflating: RiceLeaf/Rice/blast/IMG_0604.jpg  \n",
            "  inflating: RiceLeaf/Rice/blast/IMG_0605.jpg  \n",
            "  inflating: RiceLeaf/Rice/blast/IMG_0607.jpg  \n",
            "  inflating: RiceLeaf/Rice/blast/IMG_0611.jpg  \n",
            "  inflating: RiceLeaf/Rice/blast/IMG_0612.jpg  \n",
            "  inflating: RiceLeaf/Rice/blast/IMG_0613.jpg  \n",
            "  inflating: RiceLeaf/Rice/blast/IMG_0622.jpg  \n",
            "  inflating: RiceLeaf/Rice/blast/IMG_0628.jpg  \n",
            "  inflating: RiceLeaf/Rice/blast/IMG_0630.jpg  \n",
            "  inflating: RiceLeaf/Rice/blast/IMG_0632.jpg  \n",
            "  inflating: RiceLeaf/Rice/blast/IMG_0633.jpg  \n",
            "  inflating: RiceLeaf/Rice/blast/IMG_0635.jpg  \n",
            "  inflating: RiceLeaf/Rice/blast/IMG_0636.jpg  \n",
            "  inflating: RiceLeaf/Rice/blast/IMG_0640.jpg  \n",
            "  inflating: RiceLeaf/Rice/blast/IMG_0641.jpg  \n",
            "  inflating: RiceLeaf/Rice/blast/IMG_0647.jpg  \n",
            "  inflating: RiceLeaf/Rice/blast/IMG_0648.jpg  \n",
            "  inflating: RiceLeaf/Rice/blast/IMG_0649.jpg  \n",
            "  inflating: RiceLeaf/Rice/blast/IMG_0650.jpg  \n",
            "  inflating: RiceLeaf/Rice/blast/IMG_0651.jpg  \n",
            "  inflating: RiceLeaf/Rice/blast/IMG_0652.jpg  \n",
            "  inflating: RiceLeaf/Rice/blast/IMG_0654.jpg  \n",
            "  inflating: RiceLeaf/Rice/blast/IMG_0656.jpg  \n",
            "  inflating: RiceLeaf/Rice/blast/IMG_0674.jpg  \n",
            "  inflating: RiceLeaf/Rice/blast/IMG_0675.jpg  \n",
            "  inflating: RiceLeaf/Rice/blast/IMG_0678.jpg  \n",
            "  inflating: RiceLeaf/Rice/blast/IMG_0680.jpg  \n",
            "  inflating: RiceLeaf/Rice/blast/IMG_0681.jpg  \n",
            "  inflating: RiceLeaf/Rice/blast/IMG_0682.jpg  \n",
            "  inflating: RiceLeaf/Rice/blast/IMG_0684.jpg  \n",
            "  inflating: RiceLeaf/Rice/blast/IMG_0687.jpg  \n",
            "  inflating: RiceLeaf/Rice/blast/IMG_0691.jpg  \n",
            "  inflating: RiceLeaf/Rice/blast/IMG_0692.jpg  \n",
            "  inflating: RiceLeaf/Rice/blast/IMG_0694.jpg  \n",
            "  inflating: RiceLeaf/Rice/blast/IMG_0695.jpg  \n",
            "  inflating: RiceLeaf/Rice/blast/IMG_0698.jpg  \n",
            "  inflating: RiceLeaf/Rice/blast/IMG_0701.jpg  \n",
            "  inflating: RiceLeaf/Rice/blast/IMG_0704.jpg  \n",
            "  inflating: RiceLeaf/Rice/blast/IMG_0705.jpg  \n",
            "  inflating: RiceLeaf/Rice/blast/IMG_0707.jpg  \n",
            "  inflating: RiceLeaf/Rice/blast/IMG_0708.jpg  \n",
            "  inflating: RiceLeaf/Rice/blast/IMG_0711.jpg  \n",
            "  inflating: RiceLeaf/Rice/blast/IMG_0713.jpg  \n",
            "  inflating: RiceLeaf/Rice/blast/IMG_0716.jpg  \n",
            "  inflating: RiceLeaf/Rice/blast/IMG_0717.jpg  \n",
            "  inflating: RiceLeaf/Rice/blast/IMG_0718.jpg  \n",
            "  inflating: RiceLeaf/Rice/blast/IMG_0720.jpg  \n",
            "  inflating: RiceLeaf/Rice/blast/IMG_0722.jpg  \n",
            "   creating: RiceLeaf/Rice/blight/\n",
            "  inflating: RiceLeaf/Rice/blight/IMG_0834.jpg  \n",
            "  inflating: RiceLeaf/Rice/blight/IMG_0936.jpg  \n",
            "  inflating: RiceLeaf/Rice/blight/IMG_0937.jpg  \n",
            "  inflating: RiceLeaf/Rice/blight/IMG_0938.jpg  \n",
            "  inflating: RiceLeaf/Rice/blight/IMG_0939.jpg  \n",
            "  inflating: RiceLeaf/Rice/blight/IMG_0941.jpg  \n",
            "  inflating: RiceLeaf/Rice/blight/IMG_0943.jpg  \n",
            "  inflating: RiceLeaf/Rice/blight/IMG_0944.jpg  \n",
            "  inflating: RiceLeaf/Rice/blight/IMG_0946.jpg  \n",
            "  inflating: RiceLeaf/Rice/blight/IMG_0947.jpg  \n",
            "  inflating: RiceLeaf/Rice/blight/IMG_0948.jpg  \n",
            "  inflating: RiceLeaf/Rice/blight/IMG_0949.jpg  \n",
            "  inflating: RiceLeaf/Rice/blight/IMG_0950.jpg  \n",
            "  inflating: RiceLeaf/Rice/blight/IMG_0952.jpg  \n",
            "  inflating: RiceLeaf/Rice/blight/IMG_0956.jpg  \n",
            "  inflating: RiceLeaf/Rice/blight/IMG_0959.jpg  \n",
            "  inflating: RiceLeaf/Rice/blight/IMG_0962.jpg  \n",
            "  inflating: RiceLeaf/Rice/blight/IMG_0964.jpg  \n",
            "  inflating: RiceLeaf/Rice/blight/IMG_0965.jpg  \n",
            "  inflating: RiceLeaf/Rice/blight/IMG_0966.jpg  \n",
            "  inflating: RiceLeaf/Rice/blight/IMG_0971.jpg  \n",
            "  inflating: RiceLeaf/Rice/blight/IMG_0972.jpg  \n",
            "  inflating: RiceLeaf/Rice/blight/IMG_0973.jpg  \n",
            "  inflating: RiceLeaf/Rice/blight/IMG_0976.jpg  \n",
            "  inflating: RiceLeaf/Rice/blight/IMG_0979.jpg  \n",
            "  inflating: RiceLeaf/Rice/blight/IMG_0982.jpg  \n",
            "  inflating: RiceLeaf/Rice/blight/IMG_0983.jpg  \n",
            "  inflating: RiceLeaf/Rice/blight/IMG_0984.jpg  \n",
            "  inflating: RiceLeaf/Rice/blight/IMG_0985.jpg  \n",
            "  inflating: RiceLeaf/Rice/blight/IMG_0986.jpg  \n",
            "  inflating: RiceLeaf/Rice/blight/IMG_0987.jpg  \n",
            "  inflating: RiceLeaf/Rice/blight/IMG_0990.jpg  \n",
            "  inflating: RiceLeaf/Rice/blight/IMG_0991.jpg  \n",
            "  inflating: RiceLeaf/Rice/blight/IMG_0992.jpg  \n",
            "  inflating: RiceLeaf/Rice/blight/IMG_0993.jpg  \n",
            "  inflating: RiceLeaf/Rice/blight/IMG_0998.jpg  \n",
            "  inflating: RiceLeaf/Rice/blight/IMG_0999.jpg  \n",
            "  inflating: RiceLeaf/Rice/blight/IMG_1001.jpg  \n",
            "  inflating: RiceLeaf/Rice/blight/IMG_1002.jpg  \n",
            "  inflating: RiceLeaf/Rice/blight/IMG_1003.jpg  \n",
            "  inflating: RiceLeaf/Rice/blight/IMG_1004.jpg  \n",
            "  inflating: RiceLeaf/Rice/blight/IMG_1008.jpg  \n",
            "  inflating: RiceLeaf/Rice/blight/IMG_1009.jpg  \n",
            "  inflating: RiceLeaf/Rice/blight/IMG_1010.jpg  \n",
            "  inflating: RiceLeaf/Rice/blight/IMG_1011.jpg  \n",
            "  inflating: RiceLeaf/Rice/blight/IMG_1012.jpg  \n",
            "  inflating: RiceLeaf/Rice/blight/IMG_1013.jpg  \n",
            "  inflating: RiceLeaf/Rice/blight/IMG_1014.jpg  \n",
            "  inflating: RiceLeaf/Rice/blight/IMG_1015.jpg  \n",
            "  inflating: RiceLeaf/Rice/blight/IMG_1016.jpg  \n",
            "  inflating: RiceLeaf/Rice/blight/IMG_1020.jpg  \n",
            "  inflating: RiceLeaf/Rice/blight/IMG_1021.jpg  \n",
            "  inflating: RiceLeaf/Rice/blight/IMG_1022.jpg  \n",
            "  inflating: RiceLeaf/Rice/blight/IMG_1023.jpg  \n",
            "  inflating: RiceLeaf/Rice/blight/IMG_1024.jpg  \n",
            "  inflating: RiceLeaf/Rice/blight/IMG_1026.jpg  \n",
            "  inflating: RiceLeaf/Rice/blight/IMG_1027.jpg  \n",
            "  inflating: RiceLeaf/Rice/blight/IMG_1029.jpg  \n",
            "  inflating: RiceLeaf/Rice/blight/IMG_1030.jpg  \n",
            "  inflating: RiceLeaf/Rice/blight/IMG_1031.jpg  \n",
            "  inflating: RiceLeaf/Rice/blight/IMG_1033.jpg  \n",
            "  inflating: RiceLeaf/Rice/blight/IMG_1034.jpg  \n",
            "  inflating: RiceLeaf/Rice/blight/IMG_1035.jpg  \n",
            "  inflating: RiceLeaf/Rice/blight/IMG_1036.jpg  \n",
            "  inflating: RiceLeaf/Rice/blight/IMG_1042.jpg  \n",
            "  inflating: RiceLeaf/Rice/blight/IMG_1043.jpg  \n",
            "  inflating: RiceLeaf/Rice/blight/IMG_1047.jpg  \n",
            "  inflating: RiceLeaf/Rice/blight/IMG_1055.jpg  \n",
            "  inflating: RiceLeaf/Rice/blight/IMG_1056.jpg  \n",
            "  inflating: RiceLeaf/Rice/blight/IMG_1057.jpg  \n",
            "  inflating: RiceLeaf/Rice/blight/IMG_1059.jpg  \n",
            "  inflating: RiceLeaf/Rice/blight/IMG_1063.jpg  \n",
            "  inflating: RiceLeaf/Rice/blight/IMG_1064.jpg  \n",
            "  inflating: RiceLeaf/Rice/blight/IMG_1065.jpg  \n",
            "  inflating: RiceLeaf/Rice/blight/IMG_1066.jpg  \n",
            "  inflating: RiceLeaf/Rice/blight/IMG_1068.jpg  \n",
            "  inflating: RiceLeaf/Rice/blight/IMG_1069.jpg  \n",
            "  inflating: RiceLeaf/Rice/blight/IMG_1071.jpg  \n",
            "  inflating: RiceLeaf/Rice/blight/IMG_1072.jpg  \n",
            "  inflating: RiceLeaf/Rice/blight/IMG_1075.jpg  \n",
            "   creating: RiceLeaf/Rice/tungro/\n",
            "  inflating: RiceLeaf/Rice/tungro/IMG_0399.jpg  \n",
            "  inflating: RiceLeaf/Rice/tungro/IMG_0400.jpg  \n",
            "  inflating: RiceLeaf/Rice/tungro/IMG_0414.jpg  \n",
            "  inflating: RiceLeaf/Rice/tungro/IMG_0432.jpg  \n",
            "  inflating: RiceLeaf/Rice/tungro/IMG_0581.jpg  \n",
            "  inflating: RiceLeaf/Rice/tungro/IMG_0582.jpg  \n",
            "  inflating: RiceLeaf/Rice/tungro/IMG_0583.jpg  \n",
            "  inflating: RiceLeaf/Rice/tungro/IMG_0584.jpg  \n",
            "  inflating: RiceLeaf/Rice/tungro/IMG_0614.jpg  \n",
            "  inflating: RiceLeaf/Rice/tungro/IMG_0615.jpg  \n",
            "  inflating: RiceLeaf/Rice/tungro/IMG_0688.jpg  \n",
            "  inflating: RiceLeaf/Rice/tungro/IMG_0689.jpg  \n",
            "  inflating: RiceLeaf/Rice/tungro/IMG_0706.jpg  \n",
            "  inflating: RiceLeaf/Rice/tungro/IMG_0714.jpg  \n",
            "  inflating: RiceLeaf/Rice/tungro/IMG_0715.jpg  \n",
            "  inflating: RiceLeaf/Rice/tungro/IMG_0823.jpg  \n",
            "  inflating: RiceLeaf/Rice/tungro/IMG_0824.jpg  \n",
            "  inflating: RiceLeaf/Rice/tungro/IMG_0825.jpg  \n",
            "  inflating: RiceLeaf/Rice/tungro/IMG_0826.jpg  \n",
            "  inflating: RiceLeaf/Rice/tungro/IMG_0827.jpg  \n",
            "  inflating: RiceLeaf/Rice/tungro/IMG_0832.jpg  \n",
            "  inflating: RiceLeaf/Rice/tungro/IMG_0833.jpg  \n",
            "  inflating: RiceLeaf/Rice/tungro/IMG_0836.jpg  \n",
            "  inflating: RiceLeaf/Rice/tungro/IMG_0844.jpg  \n",
            "  inflating: RiceLeaf/Rice/tungro/IMG_0845.jpg  \n",
            "  inflating: RiceLeaf/Rice/tungro/IMG_0846.jpg  \n",
            "  inflating: RiceLeaf/Rice/tungro/IMG_0847.jpg  \n",
            "  inflating: RiceLeaf/Rice/tungro/IMG_0848.jpg  \n",
            "  inflating: RiceLeaf/Rice/tungro/IMG_0849.jpg  \n",
            "  inflating: RiceLeaf/Rice/tungro/IMG_0850.jpg  \n",
            "  inflating: RiceLeaf/Rice/tungro/IMG_0851.jpg  \n",
            "  inflating: RiceLeaf/Rice/tungro/IMG_0852.jpg  \n",
            "  inflating: RiceLeaf/Rice/tungro/IMG_0853.jpg  \n",
            "  inflating: RiceLeaf/Rice/tungro/IMG_0854.jpg  \n",
            "  inflating: RiceLeaf/Rice/tungro/IMG_0855.jpg  \n",
            "  inflating: RiceLeaf/Rice/tungro/IMG_0857.jpg  \n",
            "  inflating: RiceLeaf/Rice/tungro/IMG_0858.jpg  \n",
            "  inflating: RiceLeaf/Rice/tungro/IMG_0859.jpg  \n",
            "  inflating: RiceLeaf/Rice/tungro/IMG_0860.jpg  \n",
            "  inflating: RiceLeaf/Rice/tungro/IMG_0861.jpg  \n",
            "  inflating: RiceLeaf/Rice/tungro/IMG_0864.jpg  \n",
            "  inflating: RiceLeaf/Rice/tungro/IMG_0865.jpg  \n",
            "  inflating: RiceLeaf/Rice/tungro/IMG_0866.jpg  \n",
            "  inflating: RiceLeaf/Rice/tungro/IMG_0867.jpg  \n",
            "  inflating: RiceLeaf/Rice/tungro/IMG_0868.jpg  \n",
            "  inflating: RiceLeaf/Rice/tungro/IMG_0869.jpg  \n",
            "  inflating: RiceLeaf/Rice/tungro/IMG_0872.jpg  \n",
            "  inflating: RiceLeaf/Rice/tungro/IMG_0876.jpg  \n",
            "  inflating: RiceLeaf/Rice/tungro/IMG_0878.jpg  \n",
            "  inflating: RiceLeaf/Rice/tungro/IMG_0879.jpg  \n",
            "  inflating: RiceLeaf/Rice/tungro/IMG_0880.jpg  \n",
            "  inflating: RiceLeaf/Rice/tungro/IMG_0881.jpg  \n",
            "  inflating: RiceLeaf/Rice/tungro/IMG_0882.jpg  \n",
            "  inflating: RiceLeaf/Rice/tungro/IMG_0883.jpg  \n",
            "  inflating: RiceLeaf/Rice/tungro/IMG_0885.jpg  \n",
            "  inflating: RiceLeaf/Rice/tungro/IMG_0886.jpg  \n",
            "  inflating: RiceLeaf/Rice/tungro/IMG_0887.jpg  \n",
            "  inflating: RiceLeaf/Rice/tungro/IMG_0888.jpg  \n",
            "  inflating: RiceLeaf/Rice/tungro/IMG_0889.jpg  \n",
            "  inflating: RiceLeaf/Rice/tungro/IMG_0890.jpg  \n",
            "  inflating: RiceLeaf/Rice/tungro/IMG_0891.jpg  \n",
            "  inflating: RiceLeaf/Rice/tungro/IMG_0895.jpg  \n",
            "  inflating: RiceLeaf/Rice/tungro/IMG_0896.jpg  \n",
            "  inflating: RiceLeaf/Rice/tungro/IMG_0897.jpg  \n",
            "  inflating: RiceLeaf/Rice/tungro/IMG_0898.jpg  \n",
            "  inflating: RiceLeaf/Rice/tungro/IMG_0899.jpg  \n",
            "  inflating: RiceLeaf/Rice/tungro/IMG_0900.jpg  \n",
            "  inflating: RiceLeaf/Rice/tungro/IMG_0901.jpg  \n",
            "  inflating: RiceLeaf/Rice/tungro/IMG_0902.jpg  \n",
            "  inflating: RiceLeaf/Rice/tungro/IMG_0903.jpg  \n",
            "  inflating: RiceLeaf/Rice/tungro/IMG_0904.jpg  \n",
            "  inflating: RiceLeaf/Rice/tungro/IMG_0906.jpg  \n",
            "  inflating: RiceLeaf/Rice/tungro/IMG_0907.jpg  \n",
            "  inflating: RiceLeaf/Rice/tungro/IMG_0911.jpg  \n",
            "  inflating: RiceLeaf/Rice/tungro/IMG_0912.jpg  \n",
            "  inflating: RiceLeaf/Rice/tungro/IMG_0913.jpg  \n",
            "  inflating: RiceLeaf/Rice/tungro/IMG_0916.jpg  \n",
            "  inflating: RiceLeaf/Rice/tungro/IMG_0917.jpg  \n",
            "  inflating: RiceLeaf/Rice/tungro/IMG_0923.jpg  \n",
            "  inflating: RiceLeaf/Rice/tungro/IMG_1028.jpg  \n"
          ]
        }
      ]
    },
    {
      "cell_type": "code",
      "metadata": {
        "id": "vpUWSGHhZLjT"
      },
      "source": [
        "directory = '/content/RiceLeaf/Rice'"
      ],
      "execution_count": 10,
      "outputs": []
    },
    {
      "cell_type": "code",
      "metadata": {
        "colab": {
          "base_uri": "https://localhost:8080/"
        },
        "id": "K_la9tUwaeHd",
        "outputId": "26385cd1-dce3-49ce-b71c-6ffc807ecce3"
      },
      "source": [
        "Name=[]\n",
        "for file in os.listdir(directory):\n",
        "    Name+=[file]\n",
        "print(Name)\n",
        "print(len(Name))"
      ],
      "execution_count": 11,
      "outputs": [
        {
          "output_type": "stream",
          "name": "stdout",
          "text": [
            "['tungro', 'blast', 'blight']\n",
            "3\n"
          ]
        }
      ]
    },
    {
      "cell_type": "code",
      "metadata": {
        "id": "AZz430ArkKU_"
      },
      "source": [
        "N=[]\n",
        "for i in range(len(Name)):\n",
        "    N+=[i]\n",
        "    \n",
        "normal_mapping=dict(zip(Name,N)) \n",
        "reverse_mapping=dict(zip(N,Name)) \n",
        "\n",
        "def mapper(value):\n",
        "    return reverse_mapping[value]"
      ],
      "execution_count": 12,
      "outputs": []
    },
    {
      "cell_type": "code",
      "metadata": {
        "id": "_b37LCdokPT2"
      },
      "source": [
        "dataset=[]\n",
        "testset=[]\n",
        "count=0\n",
        "for name in Name:\n",
        "    path=os.path.join(directory,name)\n",
        "    t=0\n",
        "    for im in os.listdir(path):\n",
        "        if im[-4:]=='.jpg':\n",
        "            image=load_img(os.path.join(path,im), grayscale=False, color_mode='rgb', target_size=(100,100))\n",
        "            image=img_to_array(image)\n",
        "            image=image/255.0\n",
        "            if t<60:\n",
        "                dataset.append([image,count])\n",
        "            else:   \n",
        "                testset.append([image,count])\n",
        "            t+=1\n",
        "    count=count+1"
      ],
      "execution_count": 13,
      "outputs": []
    },
    {
      "cell_type": "code",
      "metadata": {
        "id": "xoRNi4qxkV__"
      },
      "source": [
        "data,labels0=zip(*dataset)\n",
        "test,tlabels0=zip(*testset)"
      ],
      "execution_count": 14,
      "outputs": []
    },
    {
      "cell_type": "code",
      "metadata": {
        "id": "maRVaFcIkZXQ"
      },
      "source": [
        "labels1=to_categorical(labels0)\n",
        "data=np.array(data)\n",
        "labels=np.array(labels1)"
      ],
      "execution_count": 15,
      "outputs": []
    },
    {
      "cell_type": "code",
      "metadata": {
        "id": "-quxey2rkcYw"
      },
      "source": [
        "tlabels1=to_categorical(tlabels0)\n",
        "test=np.array(test)\n",
        "tlabels=np.array(tlabels1)"
      ],
      "execution_count": 16,
      "outputs": []
    },
    {
      "cell_type": "code",
      "metadata": {
        "colab": {
          "base_uri": "https://localhost:8080/"
        },
        "id": "OIUEvPCOkflR",
        "outputId": "6b57bc32-5f46-4053-a905-673413f763cc"
      },
      "source": [
        "print(len(labels))\n",
        "print(len(tlabels))"
      ],
      "execution_count": 17,
      "outputs": [
        {
          "output_type": "stream",
          "name": "stdout",
          "text": [
            "180\n",
            "60\n"
          ]
        }
      ]
    },
    {
      "cell_type": "code",
      "metadata": {
        "id": "wLOL9QYbkjtH"
      },
      "source": [
        "trainx,testx,trainy,testy=train_test_split(data,labels,test_size=0.2,random_state=44)"
      ],
      "execution_count": 18,
      "outputs": []
    },
    {
      "cell_type": "code",
      "metadata": {
        "colab": {
          "base_uri": "https://localhost:8080/"
        },
        "id": "xAVuD6gYknZJ",
        "outputId": "48374e53-12b1-4d23-d496-fd4a440fccd2"
      },
      "source": [
        "print(trainx.shape)\n",
        "print(testx.shape)\n",
        "print(trainy.shape)\n",
        "print(testy.shape)"
      ],
      "execution_count": 19,
      "outputs": [
        {
          "output_type": "stream",
          "name": "stdout",
          "text": [
            "(144, 100, 100, 3)\n",
            "(36, 100, 100, 3)\n",
            "(144, 3)\n",
            "(36, 3)\n"
          ]
        }
      ]
    },
    {
      "cell_type": "code",
      "metadata": {
        "id": "9J6llNFokq9e"
      },
      "source": [
        "datagen = ImageDataGenerator(horizontal_flip=True,vertical_flip=True,rotation_range=20,zoom_range=0.2,\n",
        "                        width_shift_range=0.2,height_shift_range=0.2,shear_range=0.1,fill_mode=\"nearest\")"
      ],
      "execution_count": 20,
      "outputs": []
    },
    {
      "cell_type": "code",
      "metadata": {
        "colab": {
          "base_uri": "https://localhost:8080/"
        },
        "id": "2CgjxZQ1kumv",
        "outputId": "8a5d7ea5-48e7-4cea-d6ec-1df0f2ab90a4"
      },
      "source": [
        "pretrained_model3 = tf.keras.applications.DenseNet201(input_shape=(100,100,3),include_top=False,weights='imagenet',pooling='avg')\n",
        "pretrained_model3.trainable = False"
      ],
      "execution_count": 21,
      "outputs": [
        {
          "output_type": "stream",
          "name": "stdout",
          "text": [
            "Downloading data from https://storage.googleapis.com/tensorflow/keras-applications/densenet/densenet201_weights_tf_dim_ordering_tf_kernels_notop.h5\n",
            "74842112/74836368 [==============================] - 1s 0us/step\n",
            "74850304/74836368 [==============================] - 1s 0us/step\n"
          ]
        }
      ]
    },
    {
      "cell_type": "code",
      "metadata": {
        "id": "VIF3NjEjk0E4"
      },
      "source": [
        "inputs3 = pretrained_model3.input\n",
        "x3 = tf.keras.layers.Dense(128, activation='relu')(pretrained_model3.output)\n",
        "outputs3 = tf.keras.layers.Dense(3, activation='softmax')(x3)\n",
        "model = tf.keras.Model(inputs=inputs3, outputs=outputs3)"
      ],
      "execution_count": 22,
      "outputs": []
    },
    {
      "cell_type": "code",
      "metadata": {
        "id": "HlZe_7b2k36v"
      },
      "source": [
        "model.compile(optimizer='adam',loss='categorical_crossentropy',metrics=['accuracy'])"
      ],
      "execution_count": 23,
      "outputs": []
    },
    {
      "cell_type": "code",
      "metadata": {
        "colab": {
          "base_uri": "https://localhost:8080/"
        },
        "id": "-3b4BRCxk7Vv",
        "outputId": "05884023-4033-40c5-dc0f-b7aa17f2f7f2"
      },
      "source": [
        "his=model.fit(datagen.flow(trainx,trainy,batch_size=32),validation_data=(testx,testy),epochs=30)"
      ],
      "execution_count": 24,
      "outputs": [
        {
          "output_type": "stream",
          "name": "stdout",
          "text": [
            "Epoch 1/30\n",
            "5/5 [==============================] - 22s 3s/step - loss: 1.3559 - accuracy: 0.4792 - val_loss: 1.1591 - val_accuracy: 0.4722\n",
            "Epoch 2/30\n",
            "5/5 [==============================] - 8s 2s/step - loss: 0.6127 - accuracy: 0.7292 - val_loss: 0.6400 - val_accuracy: 0.6944\n",
            "Epoch 3/30\n",
            "5/5 [==============================] - 8s 2s/step - loss: 0.4381 - accuracy: 0.8333 - val_loss: 0.5075 - val_accuracy: 0.7778\n",
            "Epoch 4/30\n",
            "5/5 [==============================] - 8s 2s/step - loss: 0.4000 - accuracy: 0.8056 - val_loss: 0.4541 - val_accuracy: 0.7778\n",
            "Epoch 5/30\n",
            "5/5 [==============================] - 8s 2s/step - loss: 0.3402 - accuracy: 0.8333 - val_loss: 0.3376 - val_accuracy: 0.7778\n",
            "Epoch 6/30\n",
            "5/5 [==============================] - 8s 2s/step - loss: 0.2643 - accuracy: 0.9167 - val_loss: 0.4443 - val_accuracy: 0.8611\n",
            "Epoch 7/30\n",
            "5/5 [==============================] - 8s 2s/step - loss: 0.2675 - accuracy: 0.8958 - val_loss: 0.3545 - val_accuracy: 0.9167\n",
            "Epoch 8/30\n",
            "5/5 [==============================] - 8s 2s/step - loss: 0.2393 - accuracy: 0.9306 - val_loss: 0.2825 - val_accuracy: 0.9444\n",
            "Epoch 9/30\n",
            "5/5 [==============================] - 8s 2s/step - loss: 0.1995 - accuracy: 0.9236 - val_loss: 0.2122 - val_accuracy: 0.8889\n",
            "Epoch 10/30\n",
            "5/5 [==============================] - 8s 2s/step - loss: 0.1890 - accuracy: 0.9167 - val_loss: 0.1936 - val_accuracy: 0.9444\n",
            "Epoch 11/30\n",
            "5/5 [==============================] - 8s 2s/step - loss: 0.1443 - accuracy: 0.9236 - val_loss: 0.2006 - val_accuracy: 0.9167\n",
            "Epoch 12/30\n",
            "5/5 [==============================] - 8s 2s/step - loss: 0.0901 - accuracy: 0.9861 - val_loss: 0.1883 - val_accuracy: 0.8611\n",
            "Epoch 13/30\n",
            "5/5 [==============================] - 8s 2s/step - loss: 0.1216 - accuracy: 0.9514 - val_loss: 0.2295 - val_accuracy: 0.8889\n",
            "Epoch 14/30\n",
            "5/5 [==============================] - 8s 2s/step - loss: 0.1334 - accuracy: 0.9514 - val_loss: 0.2505 - val_accuracy: 0.9167\n",
            "Epoch 15/30\n",
            "5/5 [==============================] - 8s 2s/step - loss: 0.1380 - accuracy: 0.9583 - val_loss: 0.2907 - val_accuracy: 0.9167\n",
            "Epoch 16/30\n",
            "5/5 [==============================] - 8s 2s/step - loss: 0.1210 - accuracy: 0.9722 - val_loss: 0.3412 - val_accuracy: 0.8889\n",
            "Epoch 17/30\n",
            "5/5 [==============================] - 8s 2s/step - loss: 0.1183 - accuracy: 0.9653 - val_loss: 0.2495 - val_accuracy: 0.9167\n",
            "Epoch 18/30\n",
            "5/5 [==============================] - 8s 2s/step - loss: 0.0937 - accuracy: 0.9792 - val_loss: 0.2121 - val_accuracy: 0.8889\n",
            "Epoch 19/30\n",
            "5/5 [==============================] - 8s 2s/step - loss: 0.1246 - accuracy: 0.9375 - val_loss: 0.3716 - val_accuracy: 0.8889\n",
            "Epoch 20/30\n",
            "5/5 [==============================] - 8s 2s/step - loss: 0.1448 - accuracy: 0.9375 - val_loss: 0.2074 - val_accuracy: 0.9167\n",
            "Epoch 21/30\n",
            "5/5 [==============================] - 8s 2s/step - loss: 0.1306 - accuracy: 0.9653 - val_loss: 0.2066 - val_accuracy: 0.9167\n",
            "Epoch 22/30\n",
            "5/5 [==============================] - 8s 2s/step - loss: 0.1179 - accuracy: 0.9375 - val_loss: 0.3312 - val_accuracy: 0.9167\n",
            "Epoch 23/30\n",
            "5/5 [==============================] - 8s 2s/step - loss: 0.1205 - accuracy: 0.9375 - val_loss: 0.1857 - val_accuracy: 0.9167\n",
            "Epoch 24/30\n",
            "5/5 [==============================] - 8s 2s/step - loss: 0.0879 - accuracy: 0.9653 - val_loss: 0.2308 - val_accuracy: 0.9167\n",
            "Epoch 25/30\n",
            "5/5 [==============================] - 8s 2s/step - loss: 0.1929 - accuracy: 0.9444 - val_loss: 0.2046 - val_accuracy: 0.9167\n",
            "Epoch 26/30\n",
            "5/5 [==============================] - 8s 2s/step - loss: 0.1003 - accuracy: 0.9653 - val_loss: 0.1426 - val_accuracy: 0.9444\n",
            "Epoch 27/30\n",
            "5/5 [==============================] - 8s 2s/step - loss: 0.1296 - accuracy: 0.9583 - val_loss: 0.3614 - val_accuracy: 0.8889\n",
            "Epoch 28/30\n",
            "5/5 [==============================] - 8s 2s/step - loss: 0.1372 - accuracy: 0.9583 - val_loss: 0.1914 - val_accuracy: 0.8611\n",
            "Epoch 29/30\n",
            "5/5 [==============================] - 8s 2s/step - loss: 0.1137 - accuracy: 0.9653 - val_loss: 0.1473 - val_accuracy: 0.9722\n",
            "Epoch 30/30\n",
            "5/5 [==============================] - 8s 2s/step - loss: 0.1225 - accuracy: 0.9583 - val_loss: 0.2208 - val_accuracy: 0.8889\n"
          ]
        }
      ]
    },
    {
      "cell_type": "code",
      "metadata": {
        "colab": {
          "base_uri": "https://localhost:8080/"
        },
        "id": "wjsVOz5qmIOy",
        "outputId": "5f1652c1-9515-4f48-f9fe-f34b81741e10"
      },
      "source": [
        "y_pred=model.predict(testx)\n",
        "pred=np.argmax(y_pred,axis=1)\n",
        "ground = np.argmax(testy,axis=1)\n",
        "print(classification_report(ground,pred))"
      ],
      "execution_count": 25,
      "outputs": [
        {
          "output_type": "stream",
          "name": "stdout",
          "text": [
            "              precision    recall  f1-score   support\n",
            "\n",
            "           0       0.83      1.00      0.91        15\n",
            "           1       0.92      0.92      0.92        13\n",
            "           2       1.00      0.62      0.77         8\n",
            "\n",
            "    accuracy                           0.89        36\n",
            "   macro avg       0.92      0.85      0.87        36\n",
            "weighted avg       0.90      0.89      0.88        36\n",
            "\n"
          ]
        }
      ]
    },
    {
      "cell_type": "code",
      "metadata": {
        "colab": {
          "base_uri": "https://localhost:8080/",
          "height": 298
        },
        "id": "6VVSJVrkmjDw",
        "outputId": "b56252e6-25a0-4185-f4a5-8837fc0d6d92"
      },
      "source": [
        "get_acc = his.history['accuracy']\n",
        "value_acc = his.history['val_accuracy']\n",
        "get_loss = his.history['loss']\n",
        "validation_loss = his.history['val_loss']\n",
        "\n",
        "epochs = range(len(get_acc))\n",
        "plt.plot(epochs, get_acc, 'r', label='Accuracy of Training data')\n",
        "plt.plot(epochs, value_acc, 'b', label='Accuracy of Validation data')\n",
        "plt.title('Training vs validation accuracy')\n",
        "plt.legend(loc=0)\n",
        "plt.figure()\n",
        "plt.show()"
      ],
      "execution_count": 26,
      "outputs": [
        {
          "output_type": "display_data",
          "data": {
            "image/png": "[encoded data removed]",
            "text/plain": [
              "<Figure size 432x288 with 1 Axes>"
            ]
          },
          "metadata": {
            "needs_background": "light"
          }
        },
        {
          "output_type": "display_data",
          "data": {
            "text/plain": [
              "<Figure size 432x288 with 0 Axes>"
            ]
          },
          "metadata": {}
        }
      ]
    },
    {
      "cell_type": "code",
      "metadata": {
        "colab": {
          "base_uri": "https://localhost:8080/",
          "height": 298
        },
        "id": "gt0GDyHvmo5r",
        "outputId": "66fde7da-e2fe-41d8-b55b-a650de0ff498"
      },
      "source": [
        "epochs = range(len(get_loss))\n",
        "plt.plot(epochs, get_loss, 'r', label='Loss of Training data')\n",
        "plt.plot(epochs, validation_loss, 'b', label='Loss of Validation data')\n",
        "plt.title('Training vs validation loss')\n",
        "plt.legend(loc=0)\n",
        "plt.figure()\n",
        "plt.show()"
      ],
      "execution_count": 27,
      "outputs": [
        {
          "output_type": "display_data",
          "data": {
            "image/png": "[encoded data removed]",
            "text/plain": [
              "<Figure size 432x288 with 1 Axes>"
            ]
          },
          "metadata": {
            "needs_background": "light"
          }
        },
        {
          "output_type": "display_data",
          "data": {
            "text/plain": [
              "<Figure size 432x288 with 0 Axes>"
            ]
          },
          "metadata": {}
        }
      ]
    },
    {
      "cell_type": "code",
      "metadata": {
        "colab": {
          "base_uri": "https://localhost:8080/",
          "height": 117
        },
        "id": "NLC8QBj5mtuZ",
        "outputId": "8a25a723-4354-47ed-dc1c-ea386a7d6c8e"
      },
      "source": [
        "load_img(\"/content/RiceLeaf/Rice/tungro/IMG_1028.jpg\",target_size=(100,100))"
      ],
      "execution_count": 28,
      "outputs": [
        {
          "output_type": "execute_result",
          "data": {
            "image/png": "[encoded data removed]",
            "text/plain": [
              "<PIL.Image.Image image mode=RGB size=100x100 at 0x7F9E526A7A50>"
            ]
          },
          "metadata": {},
          "execution_count": 28
        }
      ]
    },
    {
      "cell_type": "code",
      "metadata": {
        "id": "orl4XHM7nChy"
      },
      "source": [
        "image=load_img(\"/content/RiceLeaf/Rice/tungro/IMG_1028.jpg\",target_size=(100,100))\n",
        "\n",
        "image=img_to_array(image) \n",
        "image=image/255.0\n",
        "prediction_image=np.array(image)\n",
        "prediction_image= np.expand_dims(image, axis=0)"
      ],
      "execution_count": 29,
      "outputs": []
    },
    {
      "cell_type": "code",
      "metadata": {
        "colab": {
          "base_uri": "https://localhost:8080/"
        },
        "id": "bQTBR87EnMhx",
        "outputId": "e0481f92-d3f8-4251-ef35-eb5449317823"
      },
      "source": [
        "prediction=model.predict(prediction_image)\n",
        "value=np.argmax(prediction)\n",
        "move_name=mapper(value)\n",
        "#print(prediction)\n",
        "#print(value)\n",
        "print(\"Prediction is {}.\".format(move_name))"
      ],
      "execution_count": 30,
      "outputs": [
        {
          "output_type": "stream",
          "name": "stdout",
          "text": [
            "Prediction is tungro.\n"
          ]
        }
      ]
    },
    {
      "cell_type": "code",
      "metadata": {
        "colab": {
          "base_uri": "https://localhost:8080/"
        },
        "id": "UUiaoaNTnmji",
        "outputId": "9f11e2b0-c91f-4a59-8a69-d0eeeed09279"
      },
      "source": [
        "print(test.shape)\n",
        "prediction2=model.predict(test)\n",
        "print(prediction2.shape)\n",
        "\n",
        "PRED=[]\n",
        "for item in prediction2:\n",
        "    value2=np.argmax(item)      \n",
        "    PRED+=[value2]"
      ],
      "execution_count": 31,
      "outputs": [
        {
          "output_type": "stream",
          "name": "stdout",
          "text": [
            "(60, 100, 100, 3)\n",
            "(60, 3)\n"
          ]
        }
      ]
    },
    {
      "cell_type": "code",
      "metadata": {
        "id": "7oU7piXZnqww"
      },
      "source": [
        "ANS=tlabels0"
      ],
      "execution_count": 32,
      "outputs": []
    },
    {
      "cell_type": "code",
      "metadata": {
        "colab": {
          "base_uri": "https://localhost:8080/"
        },
        "id": "rG-8dfvwnsSR",
        "outputId": "3626550b-7192-4372-a688-a0357e64bc2f"
      },
      "source": [
        "accuracy=accuracy_score(ANS,PRED)\n",
        "print(accuracy)"
      ],
      "execution_count": 33,
      "outputs": [
        {
          "output_type": "stream",
          "name": "stdout",
          "text": [
            "0.85\n"
          ]
        }
      ]
    }
  ]
}